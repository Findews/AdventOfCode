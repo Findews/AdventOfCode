{
 "cells": [
  {
   "cell_type": "code",
   "execution_count": 44,
   "metadata": {},
   "outputs": [],
   "source": [
    "import re\n",
    "from aocd.models import Puzzle\n",
    "\n",
    "\n",
    "puzzle = Puzzle(2024, 3)\n",
    "\n",
    "input_data = puzzle.input_data\n",
    "example_data = puzzle.examples[0].input_data\n",
    "\n"
   ]
  },
  {
   "cell_type": "code",
   "execution_count": null,
   "metadata": {},
   "outputs": [
    {
     "data": {
      "text/plain": [
       "[]"
      ]
     },
     "execution_count": 29,
     "metadata": {},
     "output_type": "execute_result"
    }
   ],
   "source": [
    "text = \"jrjepøaowjejr\"\n",
    "\n",
    "y = re.findall(\"hel*o\", text)\n",
    "x = re.findall(\"mul\\([1-9][0-9]?[0-9]?,[1-9][0-9]?[0-9]?\\)\", text)\n",
    "\n",
    "x"
   ]
  },
  {
   "cell_type": "code",
   "execution_count": null,
   "metadata": {},
   "outputs": [
    {
     "data": {
      "text/plain": [
       "'xmul(2,4)%&mul[3,7]!@^do_not_mul(5,5)+mul(32,64]then(mul(11,8)mul(8,5))'"
      ]
     },
     "execution_count": 32,
     "metadata": {},
     "output_type": "execute_result"
    }
   ],
   "source": [
    "example_data"
   ]
  },
  {
   "cell_type": "markdown",
   "metadata": {},
   "source": [
    "Del 1:"
   ]
  },
  {
   "cell_type": "code",
   "execution_count": 40,
   "metadata": {},
   "outputs": [
    {
     "name": "stdout",
     "output_type": "stream",
     "text": [
      "167090022\n"
     ]
    }
   ],
   "source": [
    "cleaned_input_data = re.findall(\"mul\\([1-9][0-9]?[0-9]?,[1-9][0-9]?[0-9]?\\)\", input_data)\n",
    "\n",
    "total_product = 0\n",
    "\n",
    "for item in cleaned_input_data:\n",
    "    numbers = re.findall(\"[1-9][0-9]?[0-9]?\", item)\n",
    "\n",
    "    product = int(numbers[0])*int(numbers[1])\n",
    "    total_product = total_product + product\n",
    "\n",
    "print(total_product)\n"
   ]
  },
  {
   "cell_type": "code",
   "execution_count": 38,
   "metadata": {},
   "outputs": [
    {
     "name": "stdout",
     "output_type": "stream",
     "text": [
      "\u001b[32mThat's the right answer!  You are one gold star closer to finding the Chief Historian. [Continue to Part Two]\u001b[0m\n"
     ]
    }
   ],
   "source": [
    "puzzle.answer_a = total_product"
   ]
  },
  {
   "cell_type": "markdown",
   "metadata": {},
   "source": [
    "Del 2:"
   ]
  },
  {
   "cell_type": "code",
   "execution_count": 50,
   "metadata": {},
   "outputs": [],
   "source": [
    "test = \"xmul(2,4)&mul[3,7]!^don't()_mul(5,5)+mul(32,64](mul(11,8)undo()?mul(8,5))do()testy\""
   ]
  },
  {
   "cell_type": "code",
   "execution_count": null,
   "metadata": {},
   "outputs": [],
   "source": [
    "cleaned_input_data = re.split(\"don't\\(\\)\", input_data)\n",
    "\n",
    "cleaned_input_data"
   ]
  },
  {
   "cell_type": "code",
   "execution_count": 100,
   "metadata": {},
   "outputs": [],
   "source": [
    "def get_total_produt(stringy: str) -> int:\n",
    "    total_product = 0\n",
    "\n",
    "    cleaned_input_data = re.findall(\"mul\\([1-9][0-9]?[0-9]?,[1-9][0-9]?[0-9]?\\)\", stringy)\n",
    "    \n",
    "    for item in cleaned_input_data:\n",
    "        numbers = re.findall(\"[1-9][0-9]?[0-9]?\", item)\n",
    "\n",
    "        if numbers != []:\n",
    "            product = int(numbers[0])*int(numbers[1])\n",
    "    \n",
    "            total_product = total_product + product\n",
    "\n",
    "    return total_product"
   ]
  },
  {
   "cell_type": "code",
   "execution_count": 113,
   "metadata": {},
   "outputs": [],
   "source": [
    "cleaned_input_data = re.split(\"don't\\(\\)\", input_data)\n",
    "\n",
    "total = get_total_produt(cleaned_input_data[0])\n",
    "\n",
    "for item in cleaned_input_data:\n",
    "    \n",
    "    dolist = re.split(\"do\\(\\)\", item)\n",
    "    dolist.pop(0) #remove the don't part\n",
    "\n",
    "    subtotal = 0\n",
    "\n",
    "    for subitem in dolist:\n",
    "        subsubtotal = get_total_produt(subitem)\n",
    "        \n",
    "        subtotal = subtotal + subsubtotal\n",
    "    \n",
    "    total = total + subtotal\n"
   ]
  },
  {
   "cell_type": "code",
   "execution_count": 112,
   "metadata": {},
   "outputs": [
    {
     "name": "stdout",
     "output_type": "stream",
     "text": [
      "\u001b[32mThat's the right answer!  You are one gold star closer to finding the Chief Historian.You have completed Day 3! You can [Shareon\n",
      "  Bluesky\n",
      "Twitter\n",
      "Mastodon] this victory or [Return to Your Advent Calendar].\u001b[0m\n"
     ]
    }
   ],
   "source": [
    "puzzle.answer_b = total"
   ]
  },
  {
   "cell_type": "code",
   "execution_count": null,
   "metadata": {},
   "outputs": [],
   "source": []
  }
 ],
 "metadata": {
  "kernelspec": {
   "display_name": ".venv",
   "language": "python",
   "name": "python3"
  },
  "language_info": {
   "codemirror_mode": {
    "name": "ipython",
    "version": 3
   },
   "file_extension": ".py",
   "mimetype": "text/x-python",
   "name": "python",
   "nbconvert_exporter": "python",
   "pygments_lexer": "ipython3",
   "version": "3.11.7"
  }
 },
 "nbformat": 4,
 "nbformat_minor": 2
}
