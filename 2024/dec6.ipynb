{
 "cells": [
  {
   "cell_type": "code",
   "execution_count": 111,
   "metadata": {},
   "outputs": [],
   "source": [
    "from aocd.models import Puzzle\n",
    "from dataclasses import dataclass\n",
    "import re\n",
    "\n",
    "from enum import StrEnum, auto"
   ]
  },
  {
   "cell_type": "code",
   "execution_count": 426,
   "metadata": {},
   "outputs": [
    {
     "data": {
      "text/plain": [
       "'https://adventofcode.com/2024/day/6'"
      ]
     },
     "execution_count": 426,
     "metadata": {},
     "output_type": "execute_result"
    }
   ],
   "source": [
    "puzzle = Puzzle(2024, 6)\n",
    "\n",
    "input_data = puzzle.input_data\n",
    "example_data = puzzle.examples[0].input_data\n",
    "\n",
    "puzzle.url"
   ]
  },
  {
   "cell_type": "code",
   "execution_count": 441,
   "metadata": {},
   "outputs": [],
   "source": [
    "split_input = input_data.split()\n",
    "split_input = example_data.split()\n",
    "\n",
    "mydict = {}\n",
    "\n",
    "for row_index, row in enumerate(split_input):\n",
    "    for column_index, item in enumerate(row):\n",
    "        mydict[(row_index, column_index)] = item\n"
   ]
  },
  {
   "cell_type": "code",
   "execution_count": 474,
   "metadata": {},
   "outputs": [],
   "source": [
    "class Direction(StrEnum):\n",
    "    UP = \"^\"\n",
    "    DOWN = \"v\"\n",
    "    LEFT = \"<\"\n",
    "    RIGHT = \">\"\n",
    "\n",
    "@dataclass\n",
    "class Position:\n",
    "    row: int\n",
    "    column: int\n",
    "\n",
    "    def __str__(self):\n",
    "        return f\"({self.row}, {self.column})\"\n",
    "\n",
    "def fuck_this_shit(lst: list[Position]) -> str:\n",
    "    bajs = \"\"\n",
    "    for item in lst:\n",
    "        bajs = bajs + str(item)\n",
    "    return bajs\n",
    "\n",
    "\n",
    "@dataclass\n",
    "class Grid: \n",
    "    grid: dict[tuple[int, int]: str]\n",
    "    rows: int | None = None\n",
    "    columns: int | None = None\n",
    "    guard_position: Position | None = None\n",
    "    guard_direction: Direction | None = None\n",
    "    traveled: dict[int: list[Position]] | None = None\n",
    "    turns: int = 0\n",
    "\n",
    "    def __post_init__(self):\n",
    "        self.rows = max(self.grid)[0]\n",
    "        self.columns = max(self.grid, key=lambda x: x[1])[1]\n",
    "        self.traveled = {0: []}\n",
    "\n",
    "    def get_guard_position(self):\n",
    "        position = [key for key in self.grid if self.grid[key] in [\"^\", \"<\", \">\", \"v\"]][0]\n",
    "        return Position(position[0], position[1])\n",
    "    \n",
    "    def get_guard_direction(self) -> Direction:\n",
    "        return Direction(self.get_value(self.guard_position))\n",
    "    \n",
    "    def get_neighbour(self, direction: Direction, position:Position):\n",
    "        return {Direction.UP: self.grid.get((position.row-1, position.column)), \n",
    "                Direction.LEFT: self.grid.get((position.row, position.column-1)), \n",
    "                Direction.DOWN: self.grid.get((position.row+1, position.column)), \n",
    "                Direction.RIGHT: self.grid.get((position.row, position.column+1))\n",
    "                }.get(direction)\n",
    "    \n",
    "    def get_value(self, position:Position) -> str:\n",
    "        return self.grid.get((position.row, position.column))\n",
    "    \n",
    "    def mark_position_X(self, position: Position):\n",
    "        self.grid[(position.row, position.column)] = \"X\"\n",
    "    \n",
    "    def turn_guard_right(self):\n",
    "        self.guard_direction = {Direction.UP: Direction.RIGHT,\n",
    "                                Direction.RIGHT: Direction.DOWN, \n",
    "                                Direction.DOWN: Direction.LEFT, \n",
    "                                Direction.LEFT: Direction.UP}.get(self.guard_direction)\n",
    "        self.turns = self.turns +1\n",
    "        self.traveled[self.turns] = [self.guard_position]\n",
    "\n",
    "    def move_guard_forward(self) -> str:\n",
    "        moveto = {Direction.UP: Position(self.guard_position.row-1, self.guard_position.column), \n",
    "                               Direction.RIGHT: Position(self.guard_position.row, self.guard_position.column + 1), \n",
    "                               Direction.DOWN: Position(self.guard_position.row +1, self.guard_position.column), \n",
    "                               Direction.LEFT: Position(self.guard_position.row, self.guard_position.column -1)}.get(self.guard_direction)\n",
    "        \n",
    "        if moveto.row not in range(0, self.rows+1) or moveto.column not in range(0, self.columns+1):\n",
    "            return \"out of bounds\"\n",
    "        \n",
    "        self.guard_position = {Direction.UP: Position(self.guard_position.row-1, self.guard_position.column), \n",
    "                               Direction.RIGHT: Position(self.guard_position.row, self.guard_position.column + 1), \n",
    "                               Direction.DOWN: Position(self.guard_position.row +1, self.guard_position.column), \n",
    "                               Direction.LEFT: Position(self.guard_position.row, self.guard_position.column -1)}.get(self.guard_direction)\n",
    "        \n",
    "        current_stretch = self.traveled.get(self.turns)\n",
    "        current_stretch.append(self.guard_position)\n",
    "        \n",
    "        self.traveled[self.turns] = current_stretch\n",
    "        \n",
    "        return \"moved\"\n",
    "    \n",
    "    def test_for_loop(self, position:Position, direction:Direction) -> bool: \n",
    "        \n",
    "        testgrid = Grid(self.grid.copy())\n",
    "        testgrid.guard_position = position\n",
    "        testgrid.guard_direction = direction\n",
    "        testgrid.traveled = self.traveled\n",
    "        testgrid.turns = self.turns\n",
    "\n",
    "        testgrid.turn_guard_right()\n",
    "        status = \"\"\n",
    "\n",
    "        path = testgrid.get_neighbour(testgrid.guard_direction, testgrid.guard_position)\n",
    "\n",
    "        while status != \"out of bounds\":\n",
    "\n",
    "            while path == \"#\":\n",
    "                testgrid.turn_guard_right()\n",
    "                path = testgrid.get_neighbour(testgrid.guard_direction, testgrid.guard_position)\n",
    "\n",
    "            while path != \"#\" and status != \"out of bounds\":\n",
    "                testgrid.mark_position_X(testgrid.guard_position)\n",
    "                status = testgrid.move_guard_forward()\n",
    "                path = testgrid.get_neighbour(testgrid.guard_direction, testgrid.guard_position)\n",
    "                \n",
    "            testgrid.mark_position_X(testgrid.guard_position)\n",
    "\n",
    "            if status == \"out of bounds\":\n",
    "                return False\n",
    "\n",
    "            current_path = fuck_this_shit(testgrid.traveled[testgrid.turns])\n",
    "\n",
    "            gone_two_steps = len(testgrid.traveled[testgrid.turns]) > 1\n",
    "            visited_before = sum(1 for value in testgrid.traveled.values() if current_path in fuck_this_shit(value)) > 1\n",
    "\n",
    "            if gone_two_steps and visited_before:\n",
    "                return True\n",
    "\n",
    "        return False\n",
    "\n",
    "\n",
    "    def __str__(self) -> str:\n",
    "        mystring = \"\"\n",
    "        for row in range(self.rows+1):\n",
    "            for column in range(self.columns+1):\n",
    "                mystring = mystring + self.grid.get((row, column))\n",
    "            mystring = mystring + \"\\n\"\n",
    "        return mystring\n"
   ]
  },
  {
   "cell_type": "code",
   "execution_count": 475,
   "metadata": {},
   "outputs": [
    {
     "name": "stdout",
     "output_type": "stream",
     "text": [
      "41\n"
     ]
    }
   ],
   "source": [
    "griddict = mydict.copy()\n",
    "\n",
    "mygrid = Grid(griddict)\n",
    "mygrid.guard_position = mygrid.get_guard_position()\n",
    "mygrid.guard_direction = mygrid.get_guard_direction()\n",
    "status = \"ok\"\n",
    "\n",
    "path = mygrid.get_neighbour(mygrid.guard_direction, mygrid.guard_position)\n",
    "while status != \"out of bounds\":\n",
    "    while path == \"#\":\n",
    "        mygrid.turn_guard_right()\n",
    "        path = mygrid.get_neighbour(mygrid.guard_direction, mygrid.guard_position)\n",
    "\n",
    "    while path != \"#\" and status != \"out of bounds\":\n",
    "        mygrid.mark_position_X(mygrid.guard_position)\n",
    "        status = mygrid.move_guard_forward()\n",
    "        path = mygrid.get_neighbour(mygrid.guard_direction, mygrid.guard_position)\n",
    "\n",
    "count = sum([1 for value in mygrid.grid.values() if value == \"X\"])\n",
    "print(count)"
   ]
  },
  {
   "cell_type": "code",
   "execution_count": 476,
   "metadata": {},
   "outputs": [
    {
     "name": "stdout",
     "output_type": "stream",
     "text": [
      "aocd will not submit that answer. At 2024-12-06 14:10:53.585267-05:00 you've previously submitted 4665 and the server responded with:\n",
      "\u001b[32mThat's the right answer!  You are one gold star closer to finding the Chief Historian. [Continue to Part Two]\u001b[0m\n",
      "It is certain that '41' is incorrect, because '41' != '4665'.\n"
     ]
    }
   ],
   "source": [
    "puzzle.answer_a = count"
   ]
  },
  {
   "cell_type": "code",
   "execution_count": 477,
   "metadata": {},
   "outputs": [
    {
     "name": "stdout",
     "output_type": "stream",
     "text": [
      "6\n"
     ]
    }
   ],
   "source": [
    "griddict = mydict.copy()\n",
    "mygrid = Grid(griddict)\n",
    "\n",
    "mygrid.guard_position = mygrid.get_guard_position()\n",
    "mygrid.guard_direction = mygrid.get_guard_direction()\n",
    "\n",
    "status = \"ok\"\n",
    "loop_count = 0\n",
    "inner_loop_count = 0\n",
    "\n",
    "path = mygrid.get_neighbour(mygrid.guard_direction, mygrid.guard_position)\n",
    "\n",
    "while status != \"out of bounds\":\n",
    "\n",
    "    while path == \"#\":\n",
    "        mygrid.turn_guard_right()\n",
    "        path = mygrid.get_neighbour(mygrid.guard_direction, mygrid.guard_position)\n",
    "\n",
    "    inner_loop_count = 0\n",
    "    while path != \"#\" and status != \"out of bounds\":\n",
    "        mygrid.mark_position_X(mygrid.guard_position)\n",
    "        \n",
    "        loop = mygrid.test_for_loop(mygrid.guard_position, mygrid.guard_direction)\n",
    "        \n",
    "        if loop:\n",
    "            inner_loop_count = inner_loop_count + 1\n",
    "\n",
    "        status = mygrid.move_guard_forward()\n",
    "        path = mygrid.get_neighbour(mygrid.guard_direction, mygrid.guard_position)\n",
    "    \n",
    "    path = mygrid.get_neighbour(mygrid.guard_direction, mygrid.guard_position)\n",
    "    \n",
    "    loop_count = loop_count + inner_loop_count\n",
    "    \n",
    "print(loop_count)"
   ]
  },
  {
   "cell_type": "code",
   "execution_count": 440,
   "metadata": {},
   "outputs": [
    {
     "name": "stdout",
     "output_type": "stream",
     "text": [
      "aocd will not submit that answer again. At 2024-12-07 16:16:03.839566-05:00 you've previously submitted 3267 and the server responded with:\n",
      "\u001b[31mThat's not the right answer; your answer is too high.  If you're stuck, make sure you're using the full input data; there are also some general tips on the about page, or you can ask for hints on the subreddit.  Please wait one minute before trying again. [Return to Day 6]\u001b[0m\n"
     ]
    }
   ],
   "source": [
    "puzzle.answer_b = loop_count"
   ]
  },
  {
   "cell_type": "code",
   "execution_count": 433,
   "metadata": {},
   "outputs": [
    {
     "data": {
      "text/plain": [
       "False"
      ]
     },
     "execution_count": 433,
     "metadata": {},
     "output_type": "execute_result"
    }
   ],
   "source": [
    "[1,2] in [1,2,3]"
   ]
  },
  {
   "cell_type": "code",
   "execution_count": null,
   "metadata": {},
   "outputs": [],
   "source": []
  }
 ],
 "metadata": {
  "kernelspec": {
   "display_name": ".venv",
   "language": "python",
   "name": "python3"
  },
  "language_info": {
   "codemirror_mode": {
    "name": "ipython",
    "version": 3
   },
   "file_extension": ".py",
   "mimetype": "text/x-python",
   "name": "python",
   "nbconvert_exporter": "python",
   "pygments_lexer": "ipython3",
   "version": "3.11.7"
  }
 },
 "nbformat": 4,
 "nbformat_minor": 2
}
