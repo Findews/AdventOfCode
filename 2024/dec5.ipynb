{
 "cells": [
  {
   "cell_type": "code",
   "execution_count": 138,
   "metadata": {},
   "outputs": [],
   "source": [
    "from aocd.models import Puzzle\n",
    "from dataclasses import dataclass\n",
    "import re"
   ]
  },
  {
   "cell_type": "code",
   "execution_count": 139,
   "metadata": {},
   "outputs": [
    {
     "data": {
      "text/plain": [
       "'https://adventofcode.com/2024/day/5'"
      ]
     },
     "execution_count": 139,
     "metadata": {},
     "output_type": "execute_result"
    }
   ],
   "source": [
    "puzzle = Puzzle(2024, 5)\n",
    "\n",
    "input_data = puzzle.input_data\n",
    "example_data = puzzle.examples[0].input_data\n",
    "\n",
    "puzzle.url"
   ]
  },
  {
   "cell_type": "code",
   "execution_count": 5,
   "metadata": {},
   "outputs": [
    {
     "data": {
      "text/plain": [
       "'47|53\\n97|13\\n97|61\\n97|47\\n75|29\\n61|13\\n75|53\\n29|13\\n97|29\\n53|29\\n61|53\\n97|53\\n61|29\\n47|13\\n75|47\\n97|75\\n47|61\\n75|61\\n47|29\\n75|13\\n53|13\\n\\n75,47,61,53,29\\n97,61,53,29,13\\n75,29,13\\n75,97,47,61,53\\n61,13,29\\n97,13,75,29,47'"
      ]
     },
     "execution_count": 5,
     "metadata": {},
     "output_type": "execute_result"
    }
   ],
   "source": [
    "example_data"
   ]
  },
  {
   "cell_type": "code",
   "execution_count": 152,
   "metadata": {},
   "outputs": [],
   "source": [
    "parsed_input = input_data.split(\"\\n\\n\")\n",
    "\n",
    "parsed_rules_str = re.findall(\"(\\d+)\\|(\\d+)\\\\n\", input_data)\n",
    "parsed_rules = [(int(value1), int(value2)) for (value1, value2) in parsed_rules_str]\n",
    "\n",
    "parsed_updates_str = parsed_input[1].split()\n",
    "\n",
    "parsed_updates = []\n",
    "\n",
    "for item in parsed_updates_str:\n",
    "    row_str = re.findall(\"[\\d]+\", item)\n",
    "    row_int = [int(item) for item in row_str]\n",
    "    parsed_updates.append(row_int)"
   ]
  },
  {
   "cell_type": "code",
   "execution_count": null,
   "metadata": {},
   "outputs": [],
   "source": [
    "parsed_rules"
   ]
  },
  {
   "cell_type": "code",
   "execution_count": null,
   "metadata": {},
   "outputs": [],
   "source": [
    "parsed_updates"
   ]
  },
  {
   "cell_type": "code",
   "execution_count": 142,
   "metadata": {},
   "outputs": [],
   "source": [
    "def is_rule_followed(rule, update) -> bool:\n",
    "    approved_update = False\n",
    "    first = rule[0]\n",
    "    second = rule[1]\n",
    "\n",
    "    try:\n",
    "        first_index = update.index(first)\n",
    "        second_index = update.index(second)\n",
    "        if second_index < first_index:\n",
    "            return approved_update\n",
    "\n",
    "    except ValueError:\n",
    "        pass\n",
    "\n",
    "    approved_update = True\n",
    "    return approved_update\n"
   ]
  },
  {
   "cell_type": "code",
   "execution_count": 143,
   "metadata": {},
   "outputs": [],
   "source": [
    "def are_all_rules_followed(rules, update) -> tuple[bool, tuple[int, int]]:\n",
    "    \n",
    "    for rule in rules:\n",
    "        approved_update = is_rule_followed(rule=rule, update=update)\n",
    "\n",
    "        if approved_update == False:\n",
    "            return False, rule\n",
    "    \n",
    "    return True, rule"
   ]
  },
  {
   "cell_type": "code",
   "execution_count": 144,
   "metadata": {},
   "outputs": [
    {
     "name": "stdout",
     "output_type": "stream",
     "text": [
      "143\n"
     ]
    }
   ],
   "source": [
    "magical_page_number = 0\n",
    "\n",
    "for update in parsed_updates:\n",
    "\n",
    "    approved_update, rule = are_all_rules_followed(rules=parsed_rules, update=update)\n",
    "    \n",
    "    if approved_update:\n",
    "        magical_page_number = magical_page_number + update[int(len(update)/2)]\n",
    "\n",
    "print(magical_page_number)"
   ]
  },
  {
   "cell_type": "code",
   "execution_count": 67,
   "metadata": {},
   "outputs": [
    {
     "name": "stdout",
     "output_type": "stream",
     "text": [
      "\u001b[32mThat's the right answer!  You are one gold star closer to finding the Chief Historian. [Continue to Part Two]\u001b[0m\n"
     ]
    }
   ],
   "source": [
    "puzzle.answer_a = magical_page_number"
   ]
  },
  {
   "cell_type": "code",
   "execution_count": 158,
   "metadata": {},
   "outputs": [
    {
     "name": "stdout",
     "output_type": "stream",
     "text": [
      "5900\n"
     ]
    }
   ],
   "source": [
    "magical_page_number = 0\n",
    "\n",
    "\n",
    "for update in parsed_updates:\n",
    "    changes_made = False\n",
    "    approved_update = False\n",
    "\n",
    "    while not approved_update:\n",
    "        approved_update, rule = are_all_rules_followed(rules=parsed_rules, update=update)\n",
    "\n",
    "        if approved_update and changes_made:\n",
    "            magical_page_number = magical_page_number + update[int(len(update)/2)]\n",
    "\n",
    "        if not approved_update:\n",
    "            first_item = rule[0]\n",
    "            second_item = rule[1]\n",
    "\n",
    "            second_item_index = update.index(second_item)\n",
    "            first_item_index = update.index(first_item)\n",
    "\n",
    "            new_update = update[0:second_item_index]\n",
    "            new_update.append(first_item)\n",
    "            new_update.append(second_item)\n",
    "            new_update.extend(update[second_item_index+1:first_item_index])\n",
    "            new_update.extend(update[first_item_index+1:])\n",
    "\n",
    "            update = new_update\n",
    "            changes_made = True\n",
    "        \n",
    "\n",
    "print(magical_page_number)"
   ]
  },
  {
   "cell_type": "code",
   "execution_count": 156,
   "metadata": {},
   "outputs": [
    {
     "name": "stdout",
     "output_type": "stream",
     "text": [
      "\u001b[32mThat's the right answer!  You are one gold star closer to finding the Chief Historian.You have completed Day 5! You can [Shareon\n",
      "  Bluesky\n",
      "Twitter\n",
      "Mastodon] this victory or [Return to Your Advent Calendar].\u001b[0m\n"
     ]
    }
   ],
   "source": [
    "puzzle.answer_b = magical_page_number"
   ]
  },
  {
   "cell_type": "code",
   "execution_count": null,
   "metadata": {},
   "outputs": [],
   "source": []
  }
 ],
 "metadata": {
  "kernelspec": {
   "display_name": ".venv",
   "language": "python",
   "name": "python3"
  },
  "language_info": {
   "codemirror_mode": {
    "name": "ipython",
    "version": 3
   },
   "file_extension": ".py",
   "mimetype": "text/x-python",
   "name": "python",
   "nbconvert_exporter": "python",
   "pygments_lexer": "ipython3",
   "version": "3.11.7"
  }
 },
 "nbformat": 4,
 "nbformat_minor": 2
}
