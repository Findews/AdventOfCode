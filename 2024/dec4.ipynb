{
 "cells": [
  {
   "cell_type": "code",
   "execution_count": 9,
   "metadata": {},
   "outputs": [],
   "source": [
    "from aocd.models import Puzzle\n",
    "from dataclasses import dataclass"
   ]
  },
  {
   "cell_type": "code",
   "execution_count": 252,
   "metadata": {},
   "outputs": [
    {
     "data": {
      "text/plain": [
       "'https://adventofcode.com/2024/day/4'"
      ]
     },
     "execution_count": 252,
     "metadata": {},
     "output_type": "execute_result"
    }
   ],
   "source": [
    "puzzle = Puzzle(2024, 4)\n",
    "\n",
    "input_data = puzzle.input_data\n",
    "example_data = puzzle.examples[0].input_data\n",
    "example_data_2 = \"\"\".M.S......\n",
    "..A..MSMS.\n",
    ".M.S.MAA..\n",
    "..A.ASMSM.\n",
    ".M.S.M....\n",
    "..........\n",
    "S.S.S.S.S.\n",
    ".A.A.A.A..\n",
    "M.M.M.M.M.\n",
    "..........\"\"\"\n",
    "\n",
    "puzzle.url"
   ]
  },
  {
   "cell_type": "code",
   "execution_count": 253,
   "metadata": {},
   "outputs": [
    {
     "data": {
      "text/plain": [
       "'.M.S......\\n..A..MSMS.\\n.M.S.MAA..\\n..A.ASMSM.\\n.M.S.M....\\n..........\\nS.S.S.S.S.\\n.A.A.A.A..\\nM.M.M.M.M.\\n..........'"
      ]
     },
     "execution_count": 253,
     "metadata": {},
     "output_type": "execute_result"
    }
   ],
   "source": [
    "example_data_2"
   ]
  },
  {
   "cell_type": "code",
   "execution_count": 294,
   "metadata": {},
   "outputs": [],
   "source": [
    "split_input = example_data.split()\n",
    "parsed_input = {}\n",
    "\n",
    "for row_index, row in enumerate(split_input):\n",
    "    thisrow = {key:value for (key, value) in zip(range(len(row)), row)}\n",
    "    parsed_input[row_index] = thisrow"
   ]
  },
  {
   "cell_type": "code",
   "execution_count": 295,
   "metadata": {},
   "outputs": [
    {
     "data": {
      "text/plain": [
       "{0: {0: '.', 1: '.', 2: 'X', 3: '.', 4: '.', 5: '.'},\n",
       " 1: {0: '.', 1: 'S', 2: 'A', 3: 'M', 4: 'X', 5: '.'},\n",
       " 2: {0: '.', 1: 'A', 2: '.', 3: '.', 4: 'A', 5: '.'},\n",
       " 3: {0: 'X', 1: 'M', 2: 'A', 3: 'S', 4: '.', 5: 'S'},\n",
       " 4: {0: '.', 1: 'X', 2: '.', 3: '.', 4: '.', 5: '.'}}"
      ]
     },
     "execution_count": 295,
     "metadata": {},
     "output_type": "execute_result"
    }
   ],
   "source": [
    "parsed_input"
   ]
  },
  {
   "cell_type": "code",
   "execution_count": 288,
   "metadata": {},
   "outputs": [],
   "source": [
    "@dataclass\n",
    "class Grid: \n",
    "    grid: dict[int, dict[int, str]]\n",
    "\n",
    "    def get_horizontals(self, row_index:int, col_index:int, length:int) -> dict[str:str]:\n",
    "        leftstring = \"\"\n",
    "        rightstring = \"\"\n",
    "        for rel_index in range(length):\n",
    "            rightstring = rightstring + self.grid.get(row_index, {}).get(col_index + rel_index, \"\")\n",
    "            leftstring = leftstring + self.grid.get(row_index, {}).get(col_index - rel_index, \"\")\n",
    "        \n",
    "        return {\"left\": leftstring, \"right\": rightstring}\n",
    "    \n",
    "    def get_verticals(self, row_index:int, col_index:int, length:int) -> dict[str:str]:\n",
    "        upstring = \"\"\n",
    "        downstring = \"\"\n",
    "\n",
    "        for rel_index in range(length):\n",
    "            upstring = upstring + self.grid.get(row_index - rel_index, {}).get(col_index, \"\")\n",
    "            downstring = downstring + self.grid.get(row_index + rel_index, {}).get(col_index, \"\")\n",
    "            \n",
    "        return {\"up\": upstring, \"down\": downstring}\n",
    "    \n",
    "    def get_angled(self, row_index:int, col_index:int, length:int) -> dict[str:str]:\n",
    "        downright = \"\"\n",
    "        downleft = \"\"\n",
    "        upright = \"\"\n",
    "        upleft = \"\"\n",
    "\n",
    "        for rel_index in range (length):\n",
    "            downright = downright + self.grid.get(row_index + rel_index, {}).get(col_index + rel_index, \"\")\n",
    "            downleft = downleft + self.grid.get(row_index + rel_index, {}).get(col_index - rel_index, \"\")\n",
    "            upright = upright + self.grid.get(row_index - rel_index, {}).get(col_index + rel_index, \"\")\n",
    "            upleft = upleft + self.grid.get(row_index - rel_index, {}).get(col_index-rel_index, \"\")\n",
    "\n",
    "        return {\"downright\": downright, \"downleft\": downleft, \"upright\": upright, \"upleft\": upleft}\n",
    "    \n",
    "    def get_all_directions(self, row_index:int, col_index:int, length:int) -> dict[str:str]:\n",
    "\n",
    "        alldirections = {}\n",
    "\n",
    "        horizontals = self.get_horizontals(row_index, col_index, length)\n",
    "        verticals = self.get_verticals(row_index, col_index, length)\n",
    "        angled = self.get_angled(row_index, col_index, length)\n",
    "\n",
    "        alldirections.update(horizontals)\n",
    "        alldirections.update(verticals)\n",
    "        alldirections.update(angled)\n",
    "\n",
    "        return alldirections\n",
    "    \n",
    "    def get_X(self, row_index:int, col_index: int, length:int) -> list[str]:\n",
    "\n",
    "        search_length = int((length-1)/2)\n",
    "        from_center = self.get_all_directions(row_index=row_index, col_index=col_index, length=search_length+1)\n",
    "\n",
    "        #From starting points\n",
    "        upleft = from_center.get(\"upleft\")[::-1] + from_center.get(\"downright\")[1:]\n",
    "        upright = from_center.get(\"upright\")[::-1] + from_center.get(\"downleft\")[1:]\n",
    "        downright = from_center.get(\"downright\")[::-1] + from_center.get(\"upleft\")[1:]\n",
    "        downleft = from_center.get(\"downleft\")[::-1] + from_center.get(\"upright\")[1:]\n",
    "\n",
    "        return [upleft, upright, downright, downleft]"
   ]
  },
  {
   "cell_type": "code",
   "execution_count": 261,
   "metadata": {},
   "outputs": [
    {
     "data": {
      "text/plain": [
       "['MSA', 'ASX', 'ASM', 'XSA']"
      ]
     },
     "execution_count": 261,
     "metadata": {},
     "output_type": "execute_result"
    }
   ],
   "source": [
    "mygrid = Grid(parsed_input)\n",
    "mygrid.get_X(row_index=2, col_index=1, length=3)"
   ]
  },
  {
   "cell_type": "code",
   "execution_count": 293,
   "metadata": {},
   "outputs": [],
   "source": [
    "XMAScount = 0\n",
    "\n",
    "for row in range(len(mygrid.grid)):\n",
    "    for column in range(len(mygrid.grid.get(row))):\n",
    "        strings = mygrid.get_all_directions(row, column, 4)\n",
    "        \n",
    "        XMAScount = XMAScount + sum([1 for item in strings.values() if item == \"XMAS\"])"
   ]
  },
  {
   "cell_type": "code",
   "execution_count": 292,
   "metadata": {},
   "outputs": [
    {
     "data": {
      "text/plain": [
       "2397"
      ]
     },
     "execution_count": 292,
     "metadata": {},
     "output_type": "execute_result"
    }
   ],
   "source": [
    "XMAScount"
   ]
  },
  {
   "cell_type": "code",
   "execution_count": 182,
   "metadata": {},
   "outputs": [
    {
     "name": "stdout",
     "output_type": "stream",
     "text": [
      "\u001b[32mThat's the right answer!  You are one gold star closer to finding the Chief Historian. [Continue to Part Two]\u001b[0m\n"
     ]
    }
   ],
   "source": [
    "puzzle.answer_a = XMAScount"
   ]
  },
  {
   "cell_type": "code",
   "execution_count": 267,
   "metadata": {},
   "outputs": [
    {
     "data": {
      "text/plain": [
       "1824"
      ]
     },
     "execution_count": 267,
     "metadata": {},
     "output_type": "execute_result"
    }
   ],
   "source": [
    "MAScount = 0\n",
    "\n",
    "for row in range(len(mygrid.grid)):\n",
    "    for column in range(len(mygrid.grid.get(row))):\n",
    "        strings = mygrid.get_X(row_index=row, col_index=column, length=3)\n",
    "        \n",
    "        if strings.count(\"MAS\") == 2 and strings.count(\"SAM\") == 2:\n",
    "            MAScount = MAScount + 1\n",
    "\n",
    "MAScount"
   ]
  },
  {
   "cell_type": "code",
   "execution_count": 264,
   "metadata": {},
   "outputs": [
    {
     "name": "stdout",
     "output_type": "stream",
     "text": [
      "\u001b[32mThat's the right answer!  You are one gold star closer to finding the Chief Historian.You have completed Day 4! You can [Shareon\n",
      "  Bluesky\n",
      "Twitter\n",
      "Mastodon] this victory or [Return to Your Advent Calendar].\u001b[0m\n"
     ]
    }
   ],
   "source": [
    "puzzle.answer_b = MAScount"
   ]
  },
  {
   "cell_type": "code",
   "execution_count": null,
   "metadata": {},
   "outputs": [],
   "source": []
  }
 ],
 "metadata": {
  "kernelspec": {
   "display_name": ".venv",
   "language": "python",
   "name": "python3"
  },
  "language_info": {
   "codemirror_mode": {
    "name": "ipython",
    "version": 3
   },
   "file_extension": ".py",
   "mimetype": "text/x-python",
   "name": "python",
   "nbconvert_exporter": "python",
   "pygments_lexer": "ipython3",
   "version": "3.11.7"
  }
 },
 "nbformat": 4,
 "nbformat_minor": 2
}
