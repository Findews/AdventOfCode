{
 "cells": [
  {
   "cell_type": "code",
   "execution_count": 12,
   "metadata": {},
   "outputs": [],
   "source": [
    "from aocd.models import Puzzle\n",
    "puzzle = Puzzle(2022, 5)\n",
    "input_data_import = puzzle.input_data\n",
    "simple_data_import = \"\"\"    [D]    \n",
    "[N] [C]    \n",
    "[Z] [M] [P]\n",
    " 1   2   3 \n",
    "\n",
    "move 1 from 2 to 1\n",
    "move 3 from 1 to 3\n",
    "move 2 from 2 to 1\n",
    "move 1 from 1 to 2\"\"\""
   ]
  },
  {
   "cell_type": "code",
   "execution_count": 31,
   "metadata": {},
   "outputs": [],
   "source": [
    "def data_fix(input_data):\n",
    "    input_data_split = input_data.split(\"\\n\\n\")\n",
    "    crate_positions_string = input_data_split[0]\n",
    "    move_instructions_string = input_data_split[1]\n",
    "\n",
    "    crate_positions = crate_positions_string.splitlines()\n",
    "    move_instructions = move_instructions_string.splitlines()\n",
    "\n",
    "    return crate_positions, move_instructions"
   ]
  },
  {
   "cell_type": "code",
   "execution_count": 32,
   "metadata": {},
   "outputs": [],
   "source": [
    "crate_positions, move_instructions = data_fix(input_data_import)"
   ]
  },
  {
   "cell_type": "code",
   "execution_count": 35,
   "metadata": {},
   "outputs": [
    {
     "data": {
      "text/plain": [
       "['[C]         [S] [H]                ',\n",
       " '[F] [B]     [C] [S]     [W]        ',\n",
       " '[B] [W]     [W] [M] [S] [B]        ',\n",
       " '[L] [H] [G] [L] [P] [F] [Q]        ',\n",
       " '[D] [P] [J] [F] [T] [G] [M] [T]    ',\n",
       " '[P] [G] [B] [N] [L] [W] [P] [W] [R]',\n",
       " '[Z] [V] [W] [J] [J] [C] [T] [S] [C]',\n",
       " '[S] [N] [F] [G] [W] [B] [H] [F] [N]',\n",
       " ' 1   2   3   4   5   6   7   8   9 ']"
      ]
     },
     "execution_count": 35,
     "metadata": {},
     "output_type": "execute_result"
    }
   ],
   "source": [
    "crate_positions"
   ]
  },
  {
   "cell_type": "code",
   "execution_count": 75,
   "metadata": {},
   "outputs": [],
   "source": [
    "def crate_rearrangement(input_data):\n",
    "    crate_positions, move_instructions = data_fix(input_data)\n",
    "\n",
    "    current_line = []\n",
    "    count = 0\n",
    "    stacks_number = int((len(crate_positions[0])+1)/4)\n",
    "    stacks_transposed = []\n",
    "    \n",
    "\n",
    "    for line in crate_positions:\n",
    "        for stack in range (0, stacks_number):\n",
    "            current_crate = line[stack*4 +1]\n",
    "            current_line.append(current_crate)\n",
    "        stacks_transposed.append(current_line)\n",
    "        current_line = []\n",
    "\n",
    "    #Pop av kolonnenummeret\n",
    "    stacks = []\n",
    "    this_row = []\n",
    "    for stack in range (stacks_number):\n",
    "        for line in stacks_transposed[::-1]:\n",
    "            if line[stack] != \" \":\n",
    "                this_row.append(line[stack])\n",
    "            else:\n",
    "                stacks.append(this_row)\n",
    "                this_row = []\n",
    "                continue\n",
    "            stacks.append(this_row)\n",
    "            this_row = []\n",
    "    \n",
    "    print(stacks)\n"
   ]
  },
  {
   "cell_type": "code",
   "execution_count": 76,
   "metadata": {},
   "outputs": [
    {
     "name": "stdout",
     "output_type": "stream",
     "text": [
      "[['1', 'S', 'Z', 'P', 'D', 'L', 'B', 'F', 'C'], ['2', 'N', 'V', 'G', 'P', 'H', 'W', 'B'], [], ['3', 'F', 'W', 'B', 'J', 'G'], [], [], [], ['4', 'G', 'J', 'N', 'F', 'L', 'W', 'C', 'S'], ['5', 'W', 'J', 'L', 'T', 'P', 'M', 'S', 'H'], ['6', 'B', 'C', 'W', 'G', 'F', 'S'], [], [], ['7', 'H', 'T', 'P', 'M', 'Q', 'B', 'W'], [], ['8', 'F', 'S', 'W', 'T'], [], [], [], [], ['9', 'N', 'C', 'R'], [], [], [], [], []]\n"
     ]
    }
   ],
   "source": [
    "crate_rearrangement(input_data_import)"
   ]
  },
  {
   "cell_type": "code",
   "execution_count": 52,
   "metadata": {},
   "outputs": [
    {
     "data": {
      "text/plain": [
       "['[C]         [S] [H]                ',\n",
       " '[F] [B]     [C] [S]     [W]        ',\n",
       " '[B] [W]     [W] [M] [S] [B]        ',\n",
       " '[L] [H] [G] [L] [P] [F] [Q]        ',\n",
       " '[D] [P] [J] [F] [T] [G] [M] [T]    ',\n",
       " '[P] [G] [B] [N] [L] [W] [P] [W] [R]',\n",
       " '[Z] [V] [W] [J] [J] [C] [T] [S] [C]',\n",
       " '[S] [N] [F] [G] [W] [B] [H] [F] [N]',\n",
       " ' 1   2   3   4   5   6   7   8   9 ']"
      ]
     },
     "execution_count": 52,
     "metadata": {},
     "output_type": "execute_result"
    }
   ],
   "source": [
    "crate_positions"
   ]
  },
  {
   "cell_type": "code",
   "execution_count": 55,
   "metadata": {},
   "outputs": [
    {
     "data": {
      "text/plain": [
       "<zip at 0x10cb9d740>"
      ]
     },
     "execution_count": 55,
     "metadata": {},
     "output_type": "execute_result"
    }
   ],
   "source": []
  },
  {
   "cell_type": "code",
   "execution_count": null,
   "metadata": {},
   "outputs": [],
   "source": []
  }
 ],
 "metadata": {
  "kernelspec": {
   "display_name": "Python 3.10.1 64-bit",
   "language": "python",
   "name": "python3"
  },
  "language_info": {
   "codemirror_mode": {
    "name": "ipython",
    "version": 3
   },
   "file_extension": ".py",
   "mimetype": "text/x-python",
   "name": "python",
   "nbconvert_exporter": "python",
   "pygments_lexer": "ipython3",
   "version": "3.10.1"
  },
  "orig_nbformat": 4,
  "vscode": {
   "interpreter": {
    "hash": "aee8b7b246df8f9039afb4144a1f6fd8d2ca17a180786b69acc140d282b71a49"
   }
  }
 },
 "nbformat": 4,
 "nbformat_minor": 2
}
