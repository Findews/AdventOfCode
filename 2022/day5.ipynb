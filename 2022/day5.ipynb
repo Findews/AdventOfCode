{
 "cells": [
  {
   "cell_type": "code",
   "execution_count": 12,
   "metadata": {},
   "outputs": [],
   "source": [
    "from aocd.models import Puzzle\n",
    "puzzle = Puzzle(2022, 5)\n",
    "input_data_import = puzzle.input_data\n",
    "simple_data_import = \"\"\"    [D]    \n",
    "[N] [C]    \n",
    "[Z] [M] [P]\n",
    " 1   2   3 \n",
    "\n",
    "move 1 from 2 to 1\n",
    "move 3 from 1 to 3\n",
    "move 2 from 2 to 1\n",
    "move 1 from 1 to 2\"\"\""
   ]
  },
  {
   "cell_type": "code",
   "execution_count": 154,
   "metadata": {},
   "outputs": [],
   "source": [
    "def data_fix(input_data):\n",
    "    input_data_split = input_data.split(\"\\n\\n\")\n",
    "    crate_positions_string = input_data_split[0]\n",
    "    move_instructions_string = input_data_split[1]\n",
    "\n",
    "    crate_positions = crate_positions_string.splitlines()\n",
    "    move_instructions = move_instructions_string.splitlines()\n",
    "\n",
    "    return crate_positions, move_instructions"
   ]
  },
  {
   "cell_type": "code",
   "execution_count": 254,
   "metadata": {},
   "outputs": [],
   "source": [
    "def crate_data_fix(crate_positions):\n",
    "\n",
    "    current_line = []\n",
    "    count = 0\n",
    "    stacks_number = int((len(crate_positions[0])+1)/4)\n",
    "    stacks_transposed = []\n",
    "    \n",
    "    for line in crate_positions:\n",
    "        for stack in range (0, stacks_number):\n",
    "            current_crate = line[stack*4 +1]\n",
    "            current_line.append(current_crate)\n",
    "        stacks_transposed.append(current_line)\n",
    "        current_line = []\n",
    "\n",
    "    stacks = []\n",
    "    this_row = []\n",
    "    for stack in range(stacks_number):\n",
    "        for line in stacks_transposed[::-1]:\n",
    "            if line[stack] != \" \":\n",
    "                this_row.append(line[stack])\n",
    "            else:\n",
    "                break\n",
    "        \n",
    "        stacks.append(this_row)\n",
    "        this_row = []\n",
    "    \n",
    "    for stack in stacks:\n",
    "        del stack[0]\n",
    "\n",
    "    return stacks"
   ]
  },
  {
   "cell_type": "code",
   "execution_count": 255,
   "metadata": {},
   "outputs": [],
   "source": [
    "def move_data_fix(move_instructions):\n",
    "    movements = []\n",
    "\n",
    "    for instruction in move_instructions:\n",
    "        instruction_indexed = instruction.split(\" \")\n",
    "        instructions = [int(instruction_indexed[1]), int(instruction_indexed[3]), int(instruction_indexed[5])]\n",
    "        movements.append(instructions)\n",
    "\n",
    "    return movements"
   ]
  },
  {
   "cell_type": "code",
   "execution_count": 256,
   "metadata": {},
   "outputs": [],
   "source": [
    "def crate_rearrangement(input_data_import):\n",
    "    crate_positions, move_instructions = data_fix(input_data_import)\n",
    "    stacks = crate_data_fix(crate_positions)\n",
    "    movements = move_data_fix(move_instructions)\n",
    "\n",
    "    times = 0\n",
    "    take = 1\n",
    "    give = 2\n",
    "    \n",
    "    for instruction in movements:\n",
    "        from_pile = instruction[take]\n",
    "        to_pile = instruction[give]\n",
    "        repeat = instruction[times]\n",
    "\n",
    "        for i in range(repeat):\n",
    "            stacks[(to_pile - 1)].append(stacks[(from_pile - 1)].pop())\n",
    "\n",
    "    top_crates = \"\"\n",
    "    for stack in stacks:\n",
    "        top_crates = top_crates + stack[-1]\n",
    "\n",
    "    return top_crates\n",
    "    "
   ]
  },
  {
   "cell_type": "code",
   "execution_count": 257,
   "metadata": {},
   "outputs": [],
   "source": [
    "puzzle.answer_a = crate_rearrangement(input_data_import)"
   ]
  },
  {
   "cell_type": "code",
   "execution_count": 215,
   "metadata": {},
   "outputs": [],
   "source": [
    "def crate_rearrangement_9001(input_data_import):\n",
    "    crate_positions, move_instructions = data_fix(input_data_import)\n",
    "    stacks = crate_data_fix(crate_positions)\n",
    "    movements = move_data_fix(move_instructions)\n",
    "\n",
    "    times = 0\n",
    "    take = 1\n",
    "    give = 2\n",
    "    for instruction in movements:\n",
    "        from_pile = instruction[take]\n",
    "        to_pile = instruction[give]\n",
    "        repeat = instruction[times]\n",
    "\n",
    "        stacks[(to_pile - 1)] = stacks[(to_pile - 1)] + stacks[(from_pile-1)][-repeat:]\n",
    "        stacks[(from_pile - 1)] = stacks[(from_pile-1)][:-repeat]\n",
    "\n",
    "    top_crates = \"\"\n",
    "    for stack in stacks:\n",
    "        top_crates = top_crates + stack[-1]\n",
    "\n",
    "    return top_crates"
   ]
  },
  {
   "cell_type": "code",
   "execution_count": 218,
   "metadata": {},
   "outputs": [
    {
     "name": "stdout",
     "output_type": "stream",
     "text": [
      "That's the right answer!  You are one gold star closer to collecting enough star fruit.You have completed Day 5! You can [Shareon\n",
      "  Twitter\n",
      "Mastodon] this victory or [Return to Your Advent Calendar].\n"
     ]
    }
   ],
   "source": [
    "puzzle.answer_b = crate_rearrangement_9001(input_data_import)"
   ]
  },
  {
   "cell_type": "code",
   "execution_count": 228,
   "metadata": {},
   "outputs": [
    {
     "name": "stdout",
     "output_type": "stream",
     "text": [
      "-3\n",
      "-2\n",
      "-1\n"
     ]
    }
   ],
   "source": [
    "for i in range(-3, 0):\n",
    "    print(i)\n"
   ]
  }
 ],
 "metadata": {
  "kernelspec": {
   "display_name": "Python 3.10.1 64-bit",
   "language": "python",
   "name": "python3"
  },
  "language_info": {
   "codemirror_mode": {
    "name": "ipython",
    "version": 3
   },
   "file_extension": ".py",
   "mimetype": "text/x-python",
   "name": "python",
   "nbconvert_exporter": "python",
   "pygments_lexer": "ipython3",
   "version": "3.10.1"
  },
  "orig_nbformat": 4,
  "vscode": {
   "interpreter": {
    "hash": "aee8b7b246df8f9039afb4144a1f6fd8d2ca17a180786b69acc140d282b71a49"
   }
  }
 },
 "nbformat": 4,
 "nbformat_minor": 2
}
