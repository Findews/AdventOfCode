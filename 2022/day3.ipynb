{
 "cells": [
  {
   "cell_type": "code",
   "execution_count": 25,
   "metadata": {},
   "outputs": [],
   "source": [
    "from aocd.models import Puzzle\n",
    "from string import ascii_letters\n",
    "puzzle = Puzzle(2022, 3)\n",
    "input_data_string = puzzle.input_data\n",
    "input_data = input_data_string.splitlines()\n",
    "simple_data_string = \"\"\"vJrwpWtwJgWrhcsFMMfFFhFp\n",
    "jqHRNqRjqzjGDLGLrsFMfFZSrLrFZsSL\n",
    "PmmdzqPrVvPwwTWBwg\n",
    "wMqvLMZHhHMvwLHjbvcjnnSBnvTQFn\n",
    "ttgJtRGJQctTZtZT\n",
    "CrZsJsPPZsGzwwsLwLmpwMDw\"\"\"\n",
    "simple_data = simple_data_string.splitlines()"
   ]
  },
  {
   "cell_type": "code",
   "execution_count": 48,
   "metadata": {},
   "outputs": [],
   "source": [
    "def reorganization(input_data):\n",
    "    priority_sum = 0\n",
    "    keys = list(ascii_letters)\n",
    "    priority = {key: value + 1 for value, key in enumerate(keys)}\n",
    "\n",
    "    for rucksack in input_data:\n",
    "        item_list = [item for item in rucksack]\n",
    "        compartment_size = len(rucksack)//2\n",
    "        compartment_1 = item_list[:compartment_size]\n",
    "        compartment_2 = item_list[compartment_size:]\n",
    "\n",
    "        compartment_1_set = set(compartment_1)\n",
    "        compartment_2_set = set(compartment_2)\n",
    "\n",
    "        double_set = compartment_1_set.intersection(compartment_2_set)\n",
    "        double_list = list(double_set)\n",
    "        double = double_list[0]\n",
    "        \n",
    "        priority_value = priority[double]\n",
    "\n",
    "        priority_sum = priority_sum + priority_value\n",
    "    \n",
    "    return priority_sum\n"
   ]
  },
  {
   "cell_type": "code",
   "execution_count": 51,
   "metadata": {},
   "outputs": [
    {
     "name": "stdout",
     "output_type": "stream",
     "text": [
      "That's the right answer!  You are one gold star closer to collecting enough star fruit. [Continue to Part Two]\n"
     ]
    }
   ],
   "source": [
    "puzzle.answer_a = reorganization(input_data)"
   ]
  },
  {
   "cell_type": "code",
   "execution_count": 55,
   "metadata": {},
   "outputs": [],
   "source": [
    "def badge_values(input_data):\n",
    "    priority_sum = 0\n",
    "    keys = list(ascii_letters)\n",
    "    priority = {key: value + 1 for value, key in enumerate(keys)}\n",
    "\n",
    "    count = 1\n",
    "    for rucksack in input_data:\n",
    "        item_list = [item for item in rucksack]\n",
    "        \n",
    "        if count == 1:\n",
    "            rucksack_1 = set(item_list)\n",
    "            count = 2\n",
    "        elif count == 2:\n",
    "            rucksack_2 = set(item_list)\n",
    "            count = 3\n",
    "        elif count == 3:\n",
    "            rucksack_3 = set(item_list)\n",
    "            count = 1\n",
    "\n",
    "            badge_set = set.intersection(rucksack_1, rucksack_2, rucksack_3)\n",
    "            badge = list(badge_set)[0]\n",
    "            priority_value = priority[badge]\n",
    "            priority_sum = priority_sum + priority_value\n",
    "    \n",
    "    return priority_sum"
   ]
  },
  {
   "cell_type": "code",
   "execution_count": 58,
   "metadata": {},
   "outputs": [
    {
     "name": "stdout",
     "output_type": "stream",
     "text": [
      "That's the right answer!  You are one gold star closer to collecting enough star fruit.You have completed Day 3! You can [Shareon\n",
      "  Twitter\n",
      "Mastodon] this victory or [Return to Your Advent Calendar].\n"
     ]
    }
   ],
   "source": [
    "puzzle.answer_b = badge_values(input_data)"
   ]
  },
  {
   "cell_type": "code",
   "execution_count": null,
   "metadata": {},
   "outputs": [],
   "source": []
  }
 ],
 "metadata": {
  "kernelspec": {
   "display_name": "Python 3.10.1 64-bit",
   "language": "python",
   "name": "python3"
  },
  "language_info": {
   "codemirror_mode": {
    "name": "ipython",
    "version": 3
   },
   "file_extension": ".py",
   "mimetype": "text/x-python",
   "name": "python",
   "nbconvert_exporter": "python",
   "pygments_lexer": "ipython3",
   "version": "3.10.1"
  },
  "orig_nbformat": 4,
  "vscode": {
   "interpreter": {
    "hash": "aee8b7b246df8f9039afb4144a1f6fd8d2ca17a180786b69acc140d282b71a49"
   }
  }
 },
 "nbformat": 4,
 "nbformat_minor": 2
}
