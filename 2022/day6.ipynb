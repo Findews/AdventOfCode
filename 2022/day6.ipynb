{
 "cells": [
  {
   "cell_type": "code",
   "execution_count": 5,
   "metadata": {},
   "outputs": [],
   "source": [
    "from aocd.models import Puzzle\n",
    "puzzle = Puzzle(2022, 6)\n",
    "input_data = puzzle.input_data\n",
    "simple_data1 = \"mjqjpqmgbljsphdztnvjfqwrcgsmlb\"\n",
    "simple_data2 = \"zcfzfwzzqfrljwzlrfnpqdbhtmscgvjw\""
   ]
  },
  {
   "cell_type": "code",
   "execution_count": 8,
   "metadata": {},
   "outputs": [],
   "source": [
    "def start_of_packet(signal):\n",
    "\n",
    "    for count in range(0, (len(signal)+1-4)):\n",
    "        selection = [signal[count], signal[count + 1], signal[count +2], signal[count + 3]]\n",
    "\n",
    "        if len(set(selection)) == 4:\n",
    "            position = count + 3 + 1\n",
    "            break\n",
    "    \n",
    "    return position\n"
   ]
  },
  {
   "cell_type": "code",
   "execution_count": 12,
   "metadata": {},
   "outputs": [
    {
     "name": "stdout",
     "output_type": "stream",
     "text": [
      "That's the right answer!  You are one gold star closer to collecting enough star fruit. [Continue to Part Two]\n"
     ]
    }
   ],
   "source": [
    "puzzle.answer_a = start_of_packet(input_data)"
   ]
  },
  {
   "cell_type": "code",
   "execution_count": 48,
   "metadata": {},
   "outputs": [],
   "source": [
    "def start_of_message(signal):\n",
    "\n",
    "    for count in range(0, (len(signal)+1-14)):\n",
    "        selection_string = signal[count:(count+15-1)]\n",
    "        selection = [item for item in selection_string]\n",
    "    \n",
    "        if len(set(selection)) == 14:\n",
    "            posititon = count + 15 - 1 \n",
    "            break\n",
    "\n",
    "    return posititon"
   ]
  },
  {
   "cell_type": "code",
   "execution_count": 40,
   "metadata": {},
   "outputs": [
    {
     "name": "stdout",
     "output_type": "stream",
     "text": [
      "That's the right answer!  You are one gold star closer to collecting enough star fruit.You have completed Day 6! You can [Shareon\n",
      "  Twitter\n",
      "Mastodon] this victory or [Return to Your Advent Calendar].\n"
     ]
    }
   ],
   "source": [
    "puzzle.answer_b = start_of_message(input_data)"
   ]
  },
  {
   "cell_type": "code",
   "execution_count": null,
   "metadata": {},
   "outputs": [],
   "source": []
  }
 ],
 "metadata": {
  "kernelspec": {
   "display_name": "Python 3.10.1 64-bit",
   "language": "python",
   "name": "python3"
  },
  "language_info": {
   "codemirror_mode": {
    "name": "ipython",
    "version": 3
   },
   "file_extension": ".py",
   "mimetype": "text/x-python",
   "name": "python",
   "nbconvert_exporter": "python",
   "pygments_lexer": "ipython3",
   "version": "3.10.1"
  },
  "orig_nbformat": 4,
  "vscode": {
   "interpreter": {
    "hash": "aee8b7b246df8f9039afb4144a1f6fd8d2ca17a180786b69acc140d282b71a49"
   }
  }
 },
 "nbformat": 4,
 "nbformat_minor": 2
}
