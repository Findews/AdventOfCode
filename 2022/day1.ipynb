{
 "cells": [
  {
   "cell_type": "code",
   "execution_count": 1,
   "metadata": {},
   "outputs": [],
   "source": [
    "from aocd.models import Puzzle"
   ]
  },
  {
   "cell_type": "code",
   "execution_count": 11,
   "metadata": {},
   "outputs": [
    {
     "data": {
      "text/plain": [
       "['1000',\n",
       " '2000',\n",
       " '3000',\n",
       " '',\n",
       " '4000',\n",
       " '',\n",
       " '5000',\n",
       " '6000',\n",
       " '',\n",
       " '7000',\n",
       " '8000',\n",
       " '9000',\n",
       " '',\n",
       " '10000']"
      ]
     },
     "execution_count": 11,
     "metadata": {},
     "output_type": "execute_result"
    }
   ],
   "source": [
    "puzzle = Puzzle(2022, 1)\n",
    "input_data = puzzle.input_data\n",
    "input_data.splitlines()\n",
    "simple_data = \"\"\"1000\n",
    "2000\n",
    "3000\n",
    "\n",
    "4000\n",
    "\n",
    "5000\n",
    "6000\n",
    "\n",
    "7000\n",
    "8000\n",
    "9000\n",
    "\n",
    "10000\n",
    "\"\"\"\n",
    "simple_data.splitlines()"
   ]
  },
  {
   "cell_type": "code",
   "execution_count": 24,
   "metadata": {},
   "outputs": [],
   "source": [
    "def max_calories(input_list):\n",
    "    current_max = 0\n",
    "    current_elf = 0\n",
    "    \n",
    "    for item in input_list:\n",
    "        if item != \"\":\n",
    "            current_elf = current_elf + int(item)\n",
    "        else:\n",
    "            if current_elf > current_max:\n",
    "                current_max = current_elf\n",
    "            current_elf = 0\n",
    "    \n",
    "    return current_max"
   ]
  },
  {
   "cell_type": "code",
   "execution_count": 27,
   "metadata": {},
   "outputs": [
    {
     "data": {
      "text/plain": [
       "72602"
      ]
     },
     "execution_count": 27,
     "metadata": {},
     "output_type": "execute_result"
    }
   ],
   "source": [
    "max_calories(input_data.splitlines())"
   ]
  },
  {
   "cell_type": "code",
   "execution_count": 28,
   "metadata": {},
   "outputs": [
    {
     "name": "stdout",
     "output_type": "stream",
     "text": [
      "That's the right answer!  You are one gold star closer to collecting enough star fruit. [Continue to Part Two]\n"
     ]
    }
   ],
   "source": [
    "puzzle.answer_a=max_calories(input_data.splitlines())"
   ]
  },
  {
   "cell_type": "code",
   "execution_count": 37,
   "metadata": {},
   "outputs": [],
   "source": [
    "def top_three_calories(input_list):\n",
    "    current_max = 0\n",
    "    current_elf = 0\n",
    "    calorie_sums = []\n",
    "    \n",
    "    for item in input_list:\n",
    "        if item != \"\":\n",
    "            current_elf = current_elf + int(item)\n",
    "        else:\n",
    "            calorie_sums.append(current_elf)\n",
    "            current_elf = 0\n",
    "    \n",
    "    if current_elf != 0:\n",
    "        calorie_sums.append(current_elf)\n",
    "    \n",
    "    calorie_sums.sort()\n",
    "\n",
    "    top_1 = calorie_sums[-1]\n",
    "    top_2 = calorie_sums[-2]\n",
    "    top_3 = calorie_sums[-3]\n",
    "\n",
    "    print(calorie_sums)\n",
    "    print(top_1, top_2, top_3) \n",
    "    return top_1 + top_2 + top_3"
   ]
  },
  {
   "cell_type": "code",
   "execution_count": 38,
   "metadata": {},
   "outputs": [
    {
     "name": "stdout",
     "output_type": "stream",
     "text": [
      "[4000, 6000, 11000, 24000]\n",
      "24000 11000 6000\n"
     ]
    },
    {
     "data": {
      "text/plain": [
       "41000"
      ]
     },
     "execution_count": 38,
     "metadata": {},
     "output_type": "execute_result"
    }
   ],
   "source": [
    "top_three_calories(simple_data.splitlines())"
   ]
  },
  {
   "cell_type": "code",
   "execution_count": null,
   "metadata": {},
   "outputs": [],
   "source": []
  }
 ],
 "metadata": {
  "kernelspec": {
   "display_name": "Python 3.10.1 64-bit",
   "language": "python",
   "name": "python3"
  },
  "language_info": {
   "codemirror_mode": {
    "name": "ipython",
    "version": 3
   },
   "file_extension": ".py",
   "mimetype": "text/x-python",
   "name": "python",
   "nbconvert_exporter": "python",
   "pygments_lexer": "ipython3",
   "version": "3.10.1"
  },
  "orig_nbformat": 4,
  "vscode": {
   "interpreter": {
    "hash": "aee8b7b246df8f9039afb4144a1f6fd8d2ca17a180786b69acc140d282b71a49"
   }
  }
 },
 "nbformat": 4,
 "nbformat_minor": 2
}
