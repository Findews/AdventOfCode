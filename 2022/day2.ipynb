{
 "cells": [
  {
   "cell_type": "code",
   "execution_count": null,
   "metadata": {},
   "outputs": [],
   "source": [
    "# Opponent: A = rock, B = paper, C = scissors\n",
    "# Me: X = rock, Y = paper, Z = scissor"
   ]
  },
  {
   "cell_type": "code",
   "execution_count": 9,
   "metadata": {},
   "outputs": [],
   "source": [
    "from aocd.models import Puzzle\n",
    "puzzle = Puzzle(2022, 2)\n",
    "input_data_string = puzzle.input_data\n",
    "input_data = input_data.splitlines()\n",
    "simple_data_string = \"\"\"A Y\n",
    "B X\n",
    "C Z\n",
    "\"\"\"\n",
    "simple_data = simple_data_string.splitlines()"
   ]
  },
  {
   "cell_type": "code",
   "execution_count": 24,
   "metadata": {},
   "outputs": [],
   "source": [
    "def score(input_list):\n",
    "\n",
    "    outcomes = {\n",
    "        \"A X\": 4,\n",
    "        \"A Y\": 8,\n",
    "        \"A Z\": 3,\n",
    "        \"B X\": 1,\n",
    "        \"B Y\": 5,\n",
    "        \"B Z\": 9,\n",
    "        \"C X\": 7,\n",
    "        \"C Y\": 2,\n",
    "        \"C Z\": 6,\n",
    "        }\n",
    "\n",
    "    current_total = 0\n",
    "\n",
    "    for item in input_list:\n",
    "        round_score = outcomes[item]\n",
    "        current_total = current_total + round_score\n",
    "    \n",
    "    return current_total"
   ]
  },
  {
   "cell_type": "code",
   "execution_count": 27,
   "metadata": {},
   "outputs": [
    {
     "name": "stdout",
     "output_type": "stream",
     "text": [
      "That's the right answer!  You are one gold star closer to collecting enough star fruit. [Continue to Part Two]\n"
     ]
    }
   ],
   "source": [
    "puzzle.answer_a = score(input_data)"
   ]
  },
  {
   "cell_type": "code",
   "execution_count": null,
   "metadata": {},
   "outputs": [],
   "source": [
    "# Opponent: A = rock 1, B = paper 2, C = scissors 3\n",
    "# Me: X = lose , Y = draw, Z = win\n",
    "# A X, Rock, lose, scissors, 0 + 3\n",
    "# A Y, Rock, draw, rock, 3 + 1\n",
    "# A Z, Rock, win, paper, 6 +2\n",
    "# B X, Paper, lose, rock, 0 + 1\n",
    "# B Y, Paper, draw, paper, 3 + 2\n",
    "# B Z, Paper, win, scissors, 6 + 3\n",
    "# C X, Scissors, lose, paper, 0 + 2\n",
    "# C Y, Scissors, draw, scissors, 3 + 3\n",
    "# C Z, Scissors, win, rock, 7"
   ]
  },
  {
   "cell_type": "code",
   "execution_count": 28,
   "metadata": {},
   "outputs": [],
   "source": [
    "def score_b(input_list):\n",
    "\n",
    "    outcomes = {\n",
    "        \"A X\": 3,\n",
    "        \"A Y\": 4,\n",
    "        \"A Z\": 8,\n",
    "        \"B X\": 1,\n",
    "        \"B Y\": 5,\n",
    "        \"B Z\": 9,\n",
    "        \"C X\": 2,\n",
    "        \"C Y\": 6,\n",
    "        \"C Z\": 7,\n",
    "        }\n",
    "\n",
    "    current_total = 0\n",
    "\n",
    "    for item in input_list:\n",
    "        round_score = outcomes[item]\n",
    "        current_total = current_total + round_score\n",
    "    \n",
    "    return current_total"
   ]
  },
  {
   "cell_type": "code",
   "execution_count": 29,
   "metadata": {},
   "outputs": [
    {
     "data": {
      "text/plain": [
       "12"
      ]
     },
     "execution_count": 29,
     "metadata": {},
     "output_type": "execute_result"
    }
   ],
   "source": [
    "score_b(simple_data)"
   ]
  },
  {
   "cell_type": "code",
   "execution_count": 30,
   "metadata": {},
   "outputs": [
    {
     "name": "stdout",
     "output_type": "stream",
     "text": [
      "That's the right answer!  You are one gold star closer to collecting enough star fruit.You have completed Day 2! You can [Shareon\n",
      "  Twitter\n",
      "Mastodon] this victory or [Return to Your Advent Calendar].\n"
     ]
    }
   ],
   "source": [
    "puzzle.answer_b=score_b(input_data)"
   ]
  },
  {
   "cell_type": "code",
   "execution_count": null,
   "metadata": {},
   "outputs": [],
   "source": []
  }
 ],
 "metadata": {
  "kernelspec": {
   "display_name": "Python 3.10.1 64-bit",
   "language": "python",
   "name": "python3"
  },
  "language_info": {
   "codemirror_mode": {
    "name": "ipython",
    "version": 3
   },
   "file_extension": ".py",
   "mimetype": "text/x-python",
   "name": "python",
   "nbconvert_exporter": "python",
   "pygments_lexer": "ipython3",
   "version": "3.10.1"
  },
  "orig_nbformat": 4,
  "vscode": {
   "interpreter": {
    "hash": "aee8b7b246df8f9039afb4144a1f6fd8d2ca17a180786b69acc140d282b71a49"
   }
  }
 },
 "nbformat": 4,
 "nbformat_minor": 2
}
