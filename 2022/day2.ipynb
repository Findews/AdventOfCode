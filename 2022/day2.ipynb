{
 "cells": [
  {
   "cell_type": "code",
   "execution_count": null,
   "metadata": {},
   "outputs": [],
   "source": [
    "# Opponent: A = rock, B = paper, C = scissors\n",
    "# Me: X = rock, Y = paper, Z = scissor"
   ]
  },
  {
   "cell_type": "code",
   "execution_count": 9,
   "metadata": {},
   "outputs": [],
   "source": [
    "from aocd.models import Puzzle\n",
    "puzzle = Puzzle(2022, 2)\n",
    "input_data_string = puzzle.input_data\n",
    "input_data = input_data.splitlines()\n",
    "simple_data_string = \"\"\"A Y\n",
    "B X\n",
    "C Z\n",
    "\"\"\"\n",
    "simple_data = simple_data_string.splitlines()"
   ]
  },
  {
   "cell_type": "code",
   "execution_count": 13,
   "metadata": {},
   "outputs": [],
   "source": [
    "def score(input_list):\n",
    "\n",
    "    outcomes = {\n",
    "        \"A X\": 4,\n",
    "        \"A Y\": 1,\n",
    "        \"A Z\": 7,\n",
    "        \"B X\": 8,\n",
    "        \"B Y\": 5,\n",
    "        \"B Z\": 2,\n",
    "        \"C X\": 3,\n",
    "        \"C Y\": 9,\n",
    "        \"C Z\": 6,\n",
    "        }\n",
    "\n",
    "    current_total = 0\n",
    "\n",
    "    for item in input_list:\n",
    "        round_score = outcomes[item]\n",
    "        current_total = current_total + round_score"
   ]
  },
  {
   "cell_type": "code",
   "execution_count": null,
   "metadata": {},
   "outputs": [],
   "source": []
  }
 ],
 "metadata": {
  "kernelspec": {
   "display_name": "Python 3.10.1 64-bit",
   "language": "python",
   "name": "python3"
  },
  "language_info": {
   "codemirror_mode": {
    "name": "ipython",
    "version": 3
   },
   "file_extension": ".py",
   "mimetype": "text/x-python",
   "name": "python",
   "nbconvert_exporter": "python",
   "pygments_lexer": "ipython3",
   "version": "3.10.1"
  },
  "orig_nbformat": 4,
  "vscode": {
   "interpreter": {
    "hash": "aee8b7b246df8f9039afb4144a1f6fd8d2ca17a180786b69acc140d282b71a49"
   }
  }
 },
 "nbformat": 4,
 "nbformat_minor": 2
}
