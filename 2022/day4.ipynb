{
 "cells": [
  {
   "cell_type": "code",
   "execution_count": 1,
   "metadata": {},
   "outputs": [],
   "source": [
    "from aocd.models import Puzzle\n",
    "puzzle = Puzzle(2022, 4)\n",
    "input_data = puzzle.input_data.splitlines()\n",
    "simple_data_string = \"\"\"2-4,6-8\n",
    "2-3,4-5\n",
    "5-7,7-9\n",
    "2-8,3-7\n",
    "6-6,4-6\n",
    "2-6,4-8\"\"\"\n",
    "simple_data = simple_data_string.splitlines()"
   ]
  },
  {
   "cell_type": "code",
   "execution_count": 64,
   "metadata": {},
   "outputs": [],
   "source": [
    "def full_containment(input_data):\n",
    "    \n",
    "    count = 0\n",
    "\n",
    "    for data_pair in input_data:\n",
    "\n",
    "        pair_split = data_pair.split(\",\")\n",
    "        pair_1_split = pair_split[0].split(\"-\")\n",
    "        pair_2_split = pair_split[1].split(\"-\")\n",
    "\n",
    "        pair_1_lower = int(pair_1_split[0])\n",
    "        pair_1_higher = int(pair_1_split[1])\n",
    "        pair_2_lower = int(pair_2_split[0])\n",
    "        pair_2_higher = int(pair_2_split[1])\n",
    "\n",
    "        if pair_1_lower >= pair_2_lower and pair_1_higher <= pair_2_higher:\n",
    "            count = count + 1\n",
    "        elif pair_2_lower >= pair_1_lower and pair_2_higher <= pair_1_higher:\n",
    "            count = count + 1\n",
    "    return count"
   ]
  },
  {
   "cell_type": "code",
   "execution_count": 66,
   "metadata": {},
   "outputs": [
    {
     "name": "stdout",
     "output_type": "stream",
     "text": [
      "That's the right answer!  You are one gold star closer to collecting enough star fruit. [Continue to Part Two]\n"
     ]
    }
   ],
   "source": [
    "puzzle.answer_a = full_containment(input_data)"
   ]
  },
  {
   "cell_type": "code",
   "execution_count": 75,
   "metadata": {},
   "outputs": [],
   "source": [
    "def any_overlap(input_data):\n",
    "    \n",
    "    count = 0\n",
    "\n",
    "    for data_pair in input_data:\n",
    "\n",
    "        pair_split = data_pair.split(\",\")\n",
    "        pair_1_split = pair_split[0].split(\"-\")\n",
    "        pair_2_split = pair_split[1].split(\"-\")\n",
    "\n",
    "        pair_1_lower = int(pair_1_split[0])\n",
    "        pair_1_higher = int(pair_1_split[1])\n",
    "        pair_2_lower = int(pair_2_split[0])\n",
    "        pair_2_higher = int(pair_2_split[1])\n",
    "\n",
    "        if pair_1_lower <= pair_2_higher and pair_1_higher >= pair_2_lower:\n",
    "            count = count + 1\n",
    "        elif pair_1_higher >= pair_2_lower and pair_1_lower <= pair_2_higher:\n",
    "            count = count + 1\n",
    "\n",
    "    return count"
   ]
  },
  {
   "cell_type": "code",
   "execution_count": 77,
   "metadata": {},
   "outputs": [],
   "source": [
    "puzzle.answer_b = any_overlap(input_data)"
   ]
  },
  {
   "cell_type": "code",
   "execution_count": 79,
   "metadata": {},
   "outputs": [
    {
     "data": {
      "text/plain": [
       "48"
      ]
     },
     "execution_count": 79,
     "metadata": {},
     "output_type": "execute_result"
    }
   ],
   "source": [
    "ord(\"0\")"
   ]
  },
  {
   "cell_type": "code",
   "execution_count": 83,
   "metadata": {},
   "outputs": [
    {
     "data": {
      "text/plain": [
       "56"
      ]
     },
     "execution_count": 83,
     "metadata": {},
     "output_type": "execute_result"
    }
   ],
   "source": [
    "ord(\"8\")"
   ]
  },
  {
   "cell_type": "code",
   "execution_count": 87,
   "metadata": {},
   "outputs": [
    {
     "data": {
      "text/plain": [
       "[('0', 48),\n",
       " ('1', 49),\n",
       " ('2', 50),\n",
       " ('3', 51),\n",
       " ('4', 52),\n",
       " ('5', 53),\n",
       " ('6', 54),\n",
       " ('7', 55),\n",
       " ('8', 56),\n",
       " ('9', 57)]"
      ]
     },
     "execution_count": 87,
     "metadata": {},
     "output_type": "execute_result"
    }
   ],
   "source": [
    "[(x, ord(x)) for x in \"0123456789\"]"
   ]
  },
  {
   "cell_type": "code",
   "execution_count": null,
   "metadata": {},
   "outputs": [],
   "source": []
  }
 ],
 "metadata": {
  "kernelspec": {
   "display_name": "Python 3.10.1 64-bit",
   "language": "python",
   "name": "python3"
  },
  "language_info": {
   "codemirror_mode": {
    "name": "ipython",
    "version": 3
   },
   "file_extension": ".py",
   "mimetype": "text/x-python",
   "name": "python",
   "nbconvert_exporter": "python",
   "pygments_lexer": "ipython3",
   "version": "3.10.1"
  },
  "orig_nbformat": 4,
  "vscode": {
   "interpreter": {
    "hash": "aee8b7b246df8f9039afb4144a1f6fd8d2ca17a180786b69acc140d282b71a49"
   }
  }
 },
 "nbformat": 4,
 "nbformat_minor": 2
}
